{
 "cells": [
  {
   "cell_type": "code",
   "execution_count": 1,
   "metadata": {},
   "outputs": [
    {
     "name": "stdout",
     "output_type": "stream",
     "text": [
      "Guess the number between 1 and 100 :\n",
      "65\n",
      "Too High 🤩 🤩\n",
      "Guess Again :😎 😎 \n",
      "45\n",
      "Too Low 😂 😂\n",
      "Guess Again :😎 😎 \n",
      "55\n",
      "Too High 🤩 🤩\n",
      "Guess Again :😎 😎 \n",
      "50\n",
      "Too Low 😂 😂\n",
      "Guess Again :😎 😎 \n",
      "52\n",
      "You win 😍 😍 and you guessed this number 5 times. 😘 \n"
     ]
    }
   ],
   "source": [
    "#MODEFIER GUESSING GAME\n",
    "import random    #random is module(in built function)\n",
    "winning_number = random.randint(1,100)\n",
    "guess = 1\n",
    "number = int(input(\"Guess the number between 1 and 100 :\\n\"))    #https://unicode.org/emoji/charts/full-emoji-list.html(emoji's)\n",
    "game_over = False\n",
    "while not game_over:\n",
    "    if number == winning_number:\n",
    "        print(f\"You win \\U0001F60D \\U0001F60D and you guessed this number {guess} times. \\U0001F618 \")\n",
    "        game_over = True\n",
    "    else:\n",
    "        if number > winning_number:\n",
    "            print(\"Too High \\U0001F929 \\U0001F929\")\n",
    "        else:\n",
    "            print(\"Too Low \\U0001F602 \\U0001F602\")\n",
    "        guess += 1     #while use this in both if else statement, we use this only in one time\n",
    "        number = int(input(\"Guess Again :\\U0001F60E \\U0001F60E \\n\"))"
   ]
  },
  {
   "cell_type": "code",
   "execution_count": null,
   "metadata": {},
   "outputs": [],
   "source": []
  }
 ],
 "metadata": {
  "kernelspec": {
   "display_name": "Python 3",
   "language": "python",
   "name": "python3"
  },
  "language_info": {
   "codemirror_mode": {
    "name": "ipython",
    "version": 3
   },
   "file_extension": ".py",
   "mimetype": "text/x-python",
   "name": "python",
   "nbconvert_exporter": "python",
   "pygments_lexer": "ipython3",
   "version": "3.6.5"
  }
 },
 "nbformat": 4,
 "nbformat_minor": 2
}
