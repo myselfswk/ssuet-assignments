{
 "cells": [
  {
   "cell_type": "markdown",
   "metadata": {},
   "source": [
    "# BASIC CALCULATOR"
   ]
  },
  {
   "cell_type": "code",
   "execution_count": 6,
   "metadata": {},
   "outputs": [
    {
     "name": "stdout",
     "output_type": "stream",
     "text": [
      "Enter sign name : ^\n",
      "Enter 1st number : 6\n",
      "Enter 2nd number : 3\n"
     ]
    }
   ],
   "source": [
    "sign = input(\"Enter sign name : \")\n",
    "first_number = int(input(\"Enter 1st number : \"))\n",
    "second_number = int(input(\"Enter 2nd number : \"))"
   ]
  },
  {
   "cell_type": "code",
   "execution_count": 7,
   "metadata": {},
   "outputs": [
    {
     "name": "stdout",
     "output_type": "stream",
     "text": [
      "6 ^ 3 = 216\n"
     ]
    }
   ],
   "source": [
    "def calculator(first_number,second_number,sign):\n",
    "    if sign == \"+\":\n",
    "        total = first_number + second_number\n",
    "    elif sign == '-':\n",
    "        total = first_number - second_number\n",
    "    elif sign == '*':\n",
    "        total = first_number * second_number\n",
    "    elif sign == '/':\n",
    "        total = first_number / second_number\n",
    "    elif sign == '^':\n",
    "        total = first_number ** second_number\n",
    "    else:\n",
    "        total = None\n",
    "    print(f\"{first_number} {sign} {second_number} = {total}\")\n",
    "\n",
    "calculator(first_number,second_number,sign)"
   ]
  },
  {
   "cell_type": "code",
   "execution_count": null,
   "metadata": {},
   "outputs": [],
   "source": []
  }
 ],
 "metadata": {
  "kernelspec": {
   "display_name": "Python 3",
   "language": "python",
   "name": "python3"
  },
  "language_info": {
   "codemirror_mode": {
    "name": "ipython",
    "version": 3
   },
   "file_extension": ".py",
   "mimetype": "text/x-python",
   "name": "python",
   "nbconvert_exporter": "python",
   "pygments_lexer": "ipython3",
   "version": "3.6.5"
  }
 },
 "nbformat": 4,
 "nbformat_minor": 2
}
