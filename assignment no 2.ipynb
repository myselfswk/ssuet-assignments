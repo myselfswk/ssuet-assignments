{
 "cells": [
  {
   "cell_type": "markdown",
   "metadata": {},
   "source": [
    "# Question no 1"
   ]
  },
  {
   "cell_type": "code",
   "execution_count": 38,
   "metadata": {},
   "outputs": [],
   "source": [
    "numbers_list=[1, 2, 3, 2, 4, 3, 5, 3, 2, 1, 3, 2, 1, 3, 2, 2, 4, 1, 3, 1, 4, 2, 6, 1, 3, 1, 3, 0 ]"
   ]
  },
  {
   "cell_type": "code",
   "execution_count": 60,
   "metadata": {},
   "outputs": [
    {
     "name": "stdout",
     "output_type": "stream",
     "text": [
      "Please enter any digit from 0 to 9: 1\n",
      "The number 1 was found in the list 7 times.\n"
     ]
    }
   ],
   "source": [
    "w = int(input(\"Please enter any digit from 0 to 9: \"))\n",
    "\n",
    "def find(num):\n",
    "    count = 0\n",
    "    i = 0\n",
    "    for i in numbers_list:\n",
    "        if i==num:\n",
    "            count += 1\n",
    "    return count\n",
    "\n",
    "print(\"The number \"+str(w) +\" was found in the list \"+str(find(w))+\" times.\")"
   ]
  },
  {
   "cell_type": "markdown",
   "metadata": {},
   "source": [
    "# Question no 2"
   ]
  },
  {
   "cell_type": "code",
   "execution_count": 40,
   "metadata": {},
   "outputs": [],
   "source": [
    "web=[\"www.zframez.com\", \"www.wikipedia.org\", \"www.asp.net\", \"www.abcd.in\"]"
   ]
  },
  {
   "cell_type": "code",
   "execution_count": 41,
   "metadata": {},
   "outputs": [
    {
     "name": "stdout",
     "output_type": "stream",
     "text": [
      "com\n",
      "org\n",
      "net\n",
      "in\n"
     ]
    }
   ],
   "source": [
    "for X in web:\n",
    "      print(X.split('.')[2])"
   ]
  },
  {
   "cell_type": "markdown",
   "metadata": {},
   "source": [
    "# Question no 3"
   ]
  },
  {
   "cell_type": "code",
   "execution_count": 42,
   "metadata": {},
   "outputs": [
    {
     "name": "stdout",
     "output_type": "stream",
     "text": [
      "Enter any number :   6\n"
     ]
    }
   ],
   "source": [
    "number = int(input(\"Enter any number :   \"))"
   ]
  },
  {
   "cell_type": "code",
   "execution_count": 43,
   "metadata": {},
   "outputs": [
    {
     "name": "stdout",
     "output_type": "stream",
     "text": [
      "factorial of  6 is 720\n"
     ]
    }
   ],
   "source": [
    "count = 1\n",
    "if number == 0 :\n",
    "    print(\"factorial of \",number,\"is 1\")\n",
    "elif number < 0:\n",
    "    print(\"sorry number is negative\")\n",
    "else:\n",
    "    for l in range(number):\n",
    "              count = count * (l+1)\n",
    "    print(\"factorial of \",number,\"is\" ,count)"
   ]
  },
  {
   "cell_type": "markdown",
   "metadata": {},
   "source": [
    "# Question no 4(a)"
   ]
  },
  {
   "cell_type": "code",
   "execution_count": 44,
   "metadata": {},
   "outputs": [],
   "source": [
    "invitation_list=[\"shakoor\",\"ghafoor\",\"nabeel\",\"shakeel\"]"
   ]
  },
  {
   "cell_type": "code",
   "execution_count": 45,
   "metadata": {},
   "outputs": [
    {
     "name": "stdout",
     "output_type": "stream",
     "text": [
      "Assalam-O-Alaikum \n",
      " Dear  shakoor I would like to invite you for dinner.\n",
      "Assalam-O-Alaikum \n",
      " Dear  ghafoor I would like to invite you for dinner.\n",
      "Assalam-O-Alaikum \n",
      " Dear  nabeel I would like to invite you for dinner.\n",
      "Assalam-O-Alaikum \n",
      " Dear  shakeel I would like to invite you for dinner.\n"
     ]
    }
   ],
   "source": [
    "for l in invitation_list:\n",
    "    print(\"Assalam-O-Alaikum \\n Dear \",l,\"I would like to invite you for dinner.\")"
   ]
  },
  {
   "cell_type": "markdown",
   "metadata": {},
   "source": [
    "# Question no 4(b)"
   ]
  },
  {
   "cell_type": "code",
   "execution_count": 46,
   "metadata": {},
   "outputs": [
    {
     "name": "stdout",
     "output_type": "stream",
     "text": [
      "ghafoor  can’t make it \n"
     ]
    }
   ],
   "source": [
    "s = \"ghafoor\"\n",
    "\n",
    "print (s,\" can’t make it \")"
   ]
  },
  {
   "cell_type": "code",
   "execution_count": 47,
   "metadata": {},
   "outputs": [
    {
     "name": "stdout",
     "output_type": "stream",
     "text": [
      " New Guest :  waleed\n"
     ]
    }
   ],
   "source": [
    "if \"ghafoor\" in invitation_list:\n",
    "    w= invitation_list.index('ghafoor')    #index number of ghafoor\n",
    "    invitation_list.remove('ghafoor')\n",
    "    l=str(input(\" New Guest :  \"))\n",
    "    invitation_list.insert(w,l)"
   ]
  },
  {
   "cell_type": "code",
   "execution_count": 48,
   "metadata": {},
   "outputs": [
    {
     "name": "stdout",
     "output_type": "stream",
     "text": [
      "Assalam-O-Alaikum ! Dear  shakoor ,I would like to invite you for dinner.\n",
      "Assalam-O-Alaikum ! Dear  waleed ,I would like to invite you for dinner.\n",
      "Assalam-O-Alaikum ! Dear  nabeel ,I would like to invite you for dinner.\n",
      "Assalam-O-Alaikum ! Dear  shakeel ,I would like to invite you for dinner.\n"
     ]
    }
   ],
   "source": [
    "for l in invitation_list:\n",
    "    print(\"Assalam-O-Alaikum ! Dear \",l,\",I would like to invite you for dinner.\")"
   ]
  },
  {
   "cell_type": "markdown",
   "metadata": {},
   "source": [
    "# Question no 4(c)"
   ]
  },
  {
   "cell_type": "code",
   "execution_count": 49,
   "metadata": {},
   "outputs": [
    {
     "name": "stdout",
     "output_type": "stream",
     "text": [
      "we have bigger dinner table now\n"
     ]
    }
   ],
   "source": [
    "print(\"we have bigger dinner table now\")"
   ]
  },
  {
   "cell_type": "code",
   "execution_count": 50,
   "metadata": {},
   "outputs": [],
   "source": [
    "invitation_list.insert(0,\"usman\")\n",
    "invitation_list.insert(3,\"usama\")"
   ]
  },
  {
   "cell_type": "code",
   "execution_count": 61,
   "metadata": {},
   "outputs": [],
   "source": [
    "invitation_list.append(\"sheraz\")"
   ]
  },
  {
   "cell_type": "code",
   "execution_count": 62,
   "metadata": {},
   "outputs": [
    {
     "name": "stdout",
     "output_type": "stream",
     "text": [
      " Dear  usman ! I would like to invite you for dinner.\n",
      " Dear  shakoor ! I would like to invite you for dinner.\n",
      " Dear  waleed ! I would like to invite you for dinner.\n",
      " Dear  usama ! I would like to invite you for dinner.\n",
      " Dear  nabeel ! I would like to invite you for dinner.\n",
      " Dear  shakeel ! I would like to invite you for dinner.\n",
      " Dear  Rana ! I would like to invite you for dinner.\n",
      " Dear  sheraz ! I would like to invite you for dinner.\n"
     ]
    }
   ],
   "source": [
    "for l in invitation_list:\n",
    "    print(\" Dear \",l,\"! I would like to invite you for dinner.\")"
   ]
  },
  {
   "cell_type": "markdown",
   "metadata": {},
   "source": [
    "# Question no 5"
   ]
  },
  {
   "cell_type": "code",
   "execution_count": 57,
   "metadata": {},
   "outputs": [],
   "source": [
    "data = \"Surah I Who believe in the Unseen, Surah Are steadfast in prayer, And spend Surah out of what We Have provided for them;\""
   ]
  },
  {
   "cell_type": "code",
   "execution_count": 58,
   "metadata": {},
   "outputs": [
    {
     "name": "stdout",
     "output_type": "stream",
     "text": [
      "['Surah', 'Surah', 'Surah']\n"
     ]
    }
   ],
   "source": [
    "k=data.split()\n",
    "Surah=[]\n",
    "for i in k:\n",
    "    if i == 'Surah':\n",
    "        Surah.append(i)\n",
    "print(Surah)"
   ]
  },
  {
   "cell_type": "code",
   "execution_count": 59,
   "metadata": {},
   "outputs": [
    {
     "name": "stdout",
     "output_type": "stream",
     "text": [
      "length : 3\n"
     ]
    }
   ],
   "source": [
    "print(\"length :\",len(Surah))"
   ]
  },
  {
   "cell_type": "code",
   "execution_count": null,
   "metadata": {},
   "outputs": [],
   "source": []
  }
 ],
 "metadata": {
  "kernelspec": {
   "display_name": "Python 3",
   "language": "python",
   "name": "python3"
  },
  "language_info": {
   "codemirror_mode": {
    "name": "ipython",
    "version": 3
   },
   "file_extension": ".py",
   "mimetype": "text/x-python",
   "name": "python",
   "nbconvert_exporter": "python",
   "pygments_lexer": "ipython3",
   "version": "3.6.5"
  }
 },
 "nbformat": 4,
 "nbformat_minor": 2
}
